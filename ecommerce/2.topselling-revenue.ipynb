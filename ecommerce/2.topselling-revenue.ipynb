{
 "cells": [
  {
   "cell_type": "markdown",
   "metadata": {},
   "source": [
    "### 학습목표\n",
    "1. 아이템별 지표 확인하기\n",
    "2. 시간별 지역별 판매 지표 확인하기"
   ]
  },
  {
   "cell_type": "code",
   "execution_count": 14,
   "metadata": {},
   "outputs": [],
   "source": [
    "import numpy as np\n",
    "import pandas as pd\n",
    "# seaborn\n",
    "import seaborn as sns\n",
    "COLORS = sns.color_palette()\n",
    "\n",
    "%matplotlib inline"
   ]
  },
  {
   "cell_type": "markdown",
   "metadata": {},
   "source": [
    "#### 데이터 로딩\n",
    "1. 정제된 데이터 사용(retail.csv)"
   ]
  },
  {
   "cell_type": "code",
   "execution_count": 15,
   "metadata": {},
   "outputs": [
    {
     "data": {
      "text/html": [
       "<div>\n",
       "<style scoped>\n",
       "    .dataframe tbody tr th:only-of-type {\n",
       "        vertical-align: middle;\n",
       "    }\n",
       "\n",
       "    .dataframe tbody tr th {\n",
       "        vertical-align: top;\n",
       "    }\n",
       "\n",
       "    .dataframe thead th {\n",
       "        text-align: right;\n",
       "    }\n",
       "</style>\n",
       "<table border=\"1\" class=\"dataframe\">\n",
       "  <thead>\n",
       "    <tr style=\"text-align: right;\">\n",
       "      <th></th>\n",
       "      <th>InvoiceNo</th>\n",
       "      <th>StockCode</th>\n",
       "      <th>Description</th>\n",
       "      <th>Quantity</th>\n",
       "      <th>InvoiceDate</th>\n",
       "      <th>UnitPrice</th>\n",
       "      <th>CustomerID</th>\n",
       "      <th>Country</th>\n",
       "      <th>CheckoutPrice</th>\n",
       "    </tr>\n",
       "  </thead>\n",
       "  <tbody>\n",
       "    <tr>\n",
       "      <th>0</th>\n",
       "      <td>536365</td>\n",
       "      <td>85123A</td>\n",
       "      <td>WHITE HANGING HEART T-LIGHT HOLDER</td>\n",
       "      <td>6</td>\n",
       "      <td>2010-12-01 08:26:00</td>\n",
       "      <td>2.55</td>\n",
       "      <td>17850.0</td>\n",
       "      <td>United Kingdom</td>\n",
       "      <td>15.30</td>\n",
       "    </tr>\n",
       "    <tr>\n",
       "      <th>1</th>\n",
       "      <td>536365</td>\n",
       "      <td>71053</td>\n",
       "      <td>WHITE METAL LANTERN</td>\n",
       "      <td>6</td>\n",
       "      <td>2010-12-01 08:26:00</td>\n",
       "      <td>3.39</td>\n",
       "      <td>17850.0</td>\n",
       "      <td>United Kingdom</td>\n",
       "      <td>20.34</td>\n",
       "    </tr>\n",
       "    <tr>\n",
       "      <th>2</th>\n",
       "      <td>536365</td>\n",
       "      <td>84406B</td>\n",
       "      <td>CREAM CUPID HEARTS COAT HANGER</td>\n",
       "      <td>8</td>\n",
       "      <td>2010-12-01 08:26:00</td>\n",
       "      <td>2.75</td>\n",
       "      <td>17850.0</td>\n",
       "      <td>United Kingdom</td>\n",
       "      <td>22.00</td>\n",
       "    </tr>\n",
       "    <tr>\n",
       "      <th>3</th>\n",
       "      <td>536365</td>\n",
       "      <td>84029G</td>\n",
       "      <td>KNITTED UNION FLAG HOT WATER BOTTLE</td>\n",
       "      <td>6</td>\n",
       "      <td>2010-12-01 08:26:00</td>\n",
       "      <td>3.39</td>\n",
       "      <td>17850.0</td>\n",
       "      <td>United Kingdom</td>\n",
       "      <td>20.34</td>\n",
       "    </tr>\n",
       "    <tr>\n",
       "      <th>4</th>\n",
       "      <td>536365</td>\n",
       "      <td>84029E</td>\n",
       "      <td>RED WOOLLY HOTTIE WHITE HEART.</td>\n",
       "      <td>6</td>\n",
       "      <td>2010-12-01 08:26:00</td>\n",
       "      <td>3.39</td>\n",
       "      <td>17850.0</td>\n",
       "      <td>United Kingdom</td>\n",
       "      <td>20.34</td>\n",
       "    </tr>\n",
       "  </tbody>\n",
       "</table>\n",
       "</div>"
      ],
      "text/plain": [
       "   InvoiceNo StockCode                          Description  Quantity  \\\n",
       "0     536365    85123A   WHITE HANGING HEART T-LIGHT HOLDER         6   \n",
       "1     536365     71053                  WHITE METAL LANTERN         6   \n",
       "2     536365    84406B       CREAM CUPID HEARTS COAT HANGER         8   \n",
       "3     536365    84029G  KNITTED UNION FLAG HOT WATER BOTTLE         6   \n",
       "4     536365    84029E       RED WOOLLY HOTTIE WHITE HEART.         6   \n",
       "\n",
       "           InvoiceDate  UnitPrice  CustomerID         Country  CheckoutPrice  \n",
       "0  2010-12-01 08:26:00       2.55     17850.0  United Kingdom          15.30  \n",
       "1  2010-12-01 08:26:00       3.39     17850.0  United Kingdom          20.34  \n",
       "2  2010-12-01 08:26:00       2.75     17850.0  United Kingdom          22.00  \n",
       "3  2010-12-01 08:26:00       3.39     17850.0  United Kingdom          20.34  \n",
       "4  2010-12-01 08:26:00       3.39     17850.0  United Kingdom          20.34  "
      ]
     },
     "execution_count": 15,
     "metadata": {},
     "output_type": "execute_result"
    }
   ],
   "source": [
    "dtypes = {\n",
    "    'UnitPrice': np.float32,\n",
    "    'CustomerID': np.int64,\n",
    "    'Quantity': np.int32\n",
    "}\n",
    "retail = pd.read_csv('./OnlineRetailClean.csv', index_col=0)\n",
    "retail.head()"
   ]
  },
  {
   "cell_type": "code",
   "execution_count": 16,
   "metadata": {},
   "outputs": [
    {
     "data": {
      "text/plain": [
       "InvoiceNo        0\n",
       "StockCode        0\n",
       "Description      0\n",
       "Quantity         0\n",
       "InvoiceDate      0\n",
       "UnitPrice        0\n",
       "CustomerID       0\n",
       "Country          0\n",
       "CheckoutPrice    0\n",
       "dtype: int64"
      ]
     },
     "execution_count": 16,
     "metadata": {},
     "output_type": "execute_result"
    }
   ],
   "source": [
    "retail.isnull().sum()"
   ]
  },
  {
   "cell_type": "markdown",
   "metadata": {},
   "source": [
    "#### 날짜 타입 데이터 변환\n",
    " - 문자열로 로딩하는 것보다 date/datetime 타입으로 로딩하는 것이 분석에 용이"
   ]
  },
  {
   "cell_type": "code",
   "execution_count": 17,
   "metadata": {},
   "outputs": [
    {
     "name": "stdout",
     "output_type": "stream",
     "text": [
      "<class 'pandas.core.frame.DataFrame'>\n",
      "Int64Index: 397884 entries, 0 to 541908\n",
      "Data columns (total 9 columns):\n",
      " #   Column         Non-Null Count   Dtype         \n",
      "---  ------         --------------   -----         \n",
      " 0   InvoiceNo      397884 non-null  int64         \n",
      " 1   StockCode      397884 non-null  object        \n",
      " 2   Description    397884 non-null  object        \n",
      " 3   Quantity       397884 non-null  int64         \n",
      " 4   InvoiceDate    397884 non-null  datetime64[ns]\n",
      " 5   UnitPrice      397884 non-null  float64       \n",
      " 6   CustomerID     397884 non-null  float64       \n",
      " 7   Country        397884 non-null  object        \n",
      " 8   CheckoutPrice  397884 non-null  float64       \n",
      "dtypes: datetime64[ns](1), float64(3), int64(2), object(3)\n",
      "memory usage: 30.4+ MB\n"
     ]
    }
   ],
   "source": [
    "retail['InvoiceDate'] = pd.to_datetime(retail['InvoiceDate'], infer_datetime_format=True)\n",
    "retail.info()"
   ]
  },
  {
   "cell_type": "markdown",
   "metadata": {},
   "source": [
    "#### 해당 기간 동안의 매출\n",
    " - 전체 매출\n",
    " - 국가별 매출\n",
    " - 월별 매출\n",
    " - 요일별 매출\n",
    " - 시간별 매출"
   ]
  },
  {
   "cell_type": "markdown",
   "metadata": {},
   "source": [
    "#### 전체 매출"
   ]
  },
  {
   "cell_type": "code",
   "execution_count": 18,
   "metadata": {},
   "outputs": [
    {
     "data": {
      "text/plain": [
       "8911407.904"
      ]
     },
     "execution_count": 18,
     "metadata": {},
     "output_type": "execute_result"
    }
   ],
   "source": [
    "np.sum(retail['CheckoutPrice'])"
   ]
  },
  {
   "cell_type": "code",
   "execution_count": 19,
   "metadata": {},
   "outputs": [
    {
     "data": {
      "text/plain": [
       "8911407.904"
      ]
     },
     "execution_count": 19,
     "metadata": {},
     "output_type": "execute_result"
    }
   ],
   "source": [
    "retail['CheckoutPrice'].sum()"
   ]
  },
  {
   "cell_type": "markdown",
   "metadata": {},
   "source": [
    "#### 국가별 매출"
   ]
  },
  {
   "cell_type": "code",
   "execution_count": 23,
   "metadata": {},
   "outputs": [],
   "source": [
    "rev_by_countries = retail.groupby('Country').sum()['CheckoutPrice'].sort_values(ascending = False)"
   ]
  },
  {
   "cell_type": "code",
   "execution_count": 27,
   "metadata": {},
   "outputs": [
    {
     "data": {
      "text/plain": [
       "[Text(0, 0, 'United Kingdom'),\n",
       " Text(1, 0, 'Netherlands'),\n",
       " Text(2, 0, 'EIRE'),\n",
       " Text(3, 0, 'Germany'),\n",
       " Text(4, 0, 'France'),\n",
       " Text(5, 0, 'Australia'),\n",
       " Text(6, 0, 'Spain'),\n",
       " Text(7, 0, 'Switzerland'),\n",
       " Text(8, 0, 'Belgium'),\n",
       " Text(9, 0, 'Sweden'),\n",
       " Text(10, 0, 'Japan'),\n",
       " Text(11, 0, 'Norway'),\n",
       " Text(12, 0, 'Portugal'),\n",
       " Text(13, 0, 'Finland'),\n",
       " Text(14, 0, 'Singapore'),\n",
       " Text(15, 0, 'Channel Islands'),\n",
       " Text(16, 0, 'Denmark'),\n",
       " Text(17, 0, 'Italy'),\n",
       " Text(18, 0, 'Cyprus'),\n",
       " Text(19, 0, 'Austria'),\n",
       " Text(20, 0, 'Poland'),\n",
       " Text(21, 0, 'Israel'),\n",
       " Text(22, 0, 'Greece'),\n",
       " Text(23, 0, 'Iceland'),\n",
       " Text(24, 0, 'Canada'),\n",
       " Text(25, 0, 'USA'),\n",
       " Text(26, 0, 'Malta'),\n",
       " Text(27, 0, 'Unspecified'),\n",
       " Text(28, 0, 'United Arab Emirates'),\n",
       " Text(29, 0, 'Lebanon'),\n",
       " Text(30, 0, 'Lithuania'),\n",
       " Text(31, 0, 'European Community'),\n",
       " Text(32, 0, 'Brazil'),\n",
       " Text(33, 0, 'RSA'),\n",
       " Text(34, 0, 'Czech Republic'),\n",
       " Text(35, 0, 'Bahrain'),\n",
       " Text(36, 0, 'Saudi Arabia')]"
      ]
     },
     "execution_count": 27,
     "metadata": {},
     "output_type": "execute_result"
    },
    {
     "data": {
      "image/png": "[encoded data removed]",
      "text/plain": [
       "<Figure size 1440x720 with 1 Axes>"
      ]
     },
     "metadata": {
      "needs_background": "light"
     },
     "output_type": "display_data"
    }
   ],
   "source": [
    "plot = rev_by_countries.plot(kind='bar', color=COLORS[-1], figsize=(20, 10))\n",
    "plot.set_xlabel('Country', fontsize=11)\n",
    "plot.set_ylabel('Revenue', fontsize=11)\n",
    "plot.set_title('Revenue by Country', fontsize=13)\n",
    "plot.set_xticklabels(rev_by_countries.index, rotation=45)"
   ]
  },
  {
   "cell_type": "markdown",
   "metadata": {},
   "source": [
    "#### 그래프 유틸 함수"
   ]
  },
  {
   "cell_type": "code",
   "execution_count": 44,
   "metadata": {},
   "outputs": [],
   "source": [
    "def plot_bar(df, xlabel, y_label, title, color= COLORS[0], figsize=(20,10), rotation=45):\n",
    "    plot = df.plot(kind='bar', color = color , figsize=figsize)\n",
    "    plot.set_xlabel(xlabel, fontsize = 11)\n",
    "    plot.set_ylabel(y_label, fontsize = 11)\n",
    "    plot.set_title(title, fontsize =13)\n",
    "    plot.set_xticklabels(labels = df.index, rotation=rotation)"
   ]
  },
  {
   "cell_type": "markdown",
   "metadata": {},
   "source": [
    "#### 월별 매출"
   ]
  },
  {
   "cell_type": "code",
   "execution_count": 50,
   "metadata": {},
   "outputs": [],
   "source": [
    "def extract_month(x):\n",
    "    month = str(x.month)\n",
    "    if len(month) < 2:\n",
    "        month =  '0'+ str(month)\n",
    "    return str(x.year) + month"
   ]
  },
  {
   "cell_type": "code",
   "execution_count": 51,
   "metadata": {},
   "outputs": [
    {
     "data": {
      "image/png": "[encoded data removed]",
      "text/plain": [
       "<Figure size 1440x720 with 1 Axes>"
      ]
     },
     "metadata": {
      "needs_background": "light"
     },
     "output_type": "display_data"
    }
   ],
   "source": [
    "rev_by_month = retail.set_index('InvoiceDate').groupby(extract_month).sum()['CheckoutPrice']\n",
    "\n",
    "plot_bar(rev_by_month, 'Month', 'Revenue','rev_by_month')"
   ]
  },
  {
   "cell_type": "code",
   "execution_count": null,
   "metadata": {},
   "outputs": [],
   "source": []
  },
  {
   "cell_type": "code",
   "execution_count": null,
   "metadata": {},
   "outputs": [],
   "source": []
  },
  {
   "cell_type": "code",
   "execution_count": null,
   "metadata": {},
   "outputs": [],
   "source": []
  },
  {
   "cell_type": "markdown",
   "metadata": {},
   "source": [
    "#### 요일별 매출"
   ]
  },
  {
   "cell_type": "code",
   "execution_count": 60,
   "metadata": {},
   "outputs": [],
   "source": [
    "rev_week = retail.set_index('InvoiceDate').groupby(lambda x : x.weekday).sum()['CheckoutPrice']\n",
    "rev_week.index = np.array(['mon', 'tue', 'wed', 'thu','fri', 'sun'])"
   ]
  },
  {
   "cell_type": "code",
   "execution_count": 61,
   "metadata": {},
   "outputs": [
    {
     "data": {
      "image/png": "[encoded data removed]",
      "text/plain": [
       "<Figure size 1440x720 with 1 Axes>"
      ]
     },
     "metadata": {
      "needs_background": "light"
     },
     "output_type": "display_data"
    }
   ],
   "source": [
    "plot_bar(rev_week, 'weekday', 'revenue', 'rev_week')"
   ]
  },
  {
   "cell_type": "markdown",
   "metadata": {},
   "source": [
    "#### 시간별 매출"
   ]
  },
  {
   "cell_type": "code",
   "execution_count": 63,
   "metadata": {},
   "outputs": [
    {
     "data": {
      "text/plain": [
       "6           4.250\n",
       "7       31059.210\n",
       "8      282115.630\n",
       "9      842605.171\n",
       "10    1261192.571\n",
       "11    1104558.750\n",
       "12    1378571.480\n",
       "13    1173264.750\n",
       "14     995629.371\n",
       "15     966191.750\n",
       "16     468885.800\n",
       "17     234413.521\n",
       "18     104954.430\n",
       "19      49028.460\n",
       "20      18932.760\n",
       "Name: CheckoutPrice, dtype: float64"
      ]
     },
     "execution_count": 63,
     "metadata": {},
     "output_type": "execute_result"
    }
   ],
   "source": [
    "rev_time = retail.set_index('InvoiceDate').groupby(lambda x : x.hour).sum()['CheckoutPrice']\n",
    "rev_time"
   ]
  },
  {
   "cell_type": "code",
   "execution_count": 64,
   "metadata": {},
   "outputs": [
    {
     "data": {
      "image/png": "[encoded data removed]",
      "text/plain": [
       "<Figure size 1440x720 with 1 Axes>"
      ]
     },
     "metadata": {
      "needs_background": "light"
     },
     "output_type": "display_data"
    }
   ],
   "source": [
    "plot_bar(rev_time, 'time', 'revenue', 'rev_time')"
   ]
  },
  {
   "cell_type": "markdown",
   "metadata": {},
   "source": [
    "#### 매출 데이터로부터 insight \n",
    " - 전체 매출의 82%가 UK에서 발생\n",
    " - 11년도의 가장 많은 주문이 발생한 달 11월(12월의 전체 데이터가 반영이 되진 않았음)\n",
    "  - 11, 12월의 판매량이 압도(블랙프라이데이, 사이버먼데이, 크리스마스 휴일)\n",
    " - 일주일중 목요일까지는 성장세를 보이다가, 이후로 하락(토요일에는 주문X)\n",
    " - 7시를 시작으로 주문이 시작되어 12시까지 증가세, 15시까지 하락을, 15시 이후 부터 급락)"
   ]
  },
  {
   "cell_type": "markdown",
   "metadata": {},
   "source": [
    "#### 제품별 metrics\n",
    " - Top 10 판매 제품\n",
    " - Top 10 매출 제품"
   ]
  },
  {
   "cell_type": "code",
   "execution_count": 65,
   "metadata": {},
   "outputs": [
    {
     "data": {
      "text/html": [
       "<div>\n",
       "<style scoped>\n",
       "    .dataframe tbody tr th:only-of-type {\n",
       "        vertical-align: middle;\n",
       "    }\n",
       "\n",
       "    .dataframe tbody tr th {\n",
       "        vertical-align: top;\n",
       "    }\n",
       "\n",
       "    .dataframe thead th {\n",
       "        text-align: right;\n",
       "    }\n",
       "</style>\n",
       "<table border=\"1\" class=\"dataframe\">\n",
       "  <thead>\n",
       "    <tr style=\"text-align: right;\">\n",
       "      <th></th>\n",
       "      <th>InvoiceNo</th>\n",
       "      <th>StockCode</th>\n",
       "      <th>Description</th>\n",
       "      <th>Quantity</th>\n",
       "      <th>InvoiceDate</th>\n",
       "      <th>UnitPrice</th>\n",
       "      <th>CustomerID</th>\n",
       "      <th>Country</th>\n",
       "      <th>CheckoutPrice</th>\n",
       "    </tr>\n",
       "  </thead>\n",
       "  <tbody>\n",
       "    <tr>\n",
       "      <th>0</th>\n",
       "      <td>536365</td>\n",
       "      <td>85123A</td>\n",
       "      <td>WHITE HANGING HEART T-LIGHT HOLDER</td>\n",
       "      <td>6</td>\n",
       "      <td>2010-12-01 08:26:00</td>\n",
       "      <td>2.55</td>\n",
       "      <td>17850.0</td>\n",
       "      <td>United Kingdom</td>\n",
       "      <td>15.30</td>\n",
       "    </tr>\n",
       "    <tr>\n",
       "      <th>1</th>\n",
       "      <td>536365</td>\n",
       "      <td>71053</td>\n",
       "      <td>WHITE METAL LANTERN</td>\n",
       "      <td>6</td>\n",
       "      <td>2010-12-01 08:26:00</td>\n",
       "      <td>3.39</td>\n",
       "      <td>17850.0</td>\n",
       "      <td>United Kingdom</td>\n",
       "      <td>20.34</td>\n",
       "    </tr>\n",
       "    <tr>\n",
       "      <th>2</th>\n",
       "      <td>536365</td>\n",
       "      <td>84406B</td>\n",
       "      <td>CREAM CUPID HEARTS COAT HANGER</td>\n",
       "      <td>8</td>\n",
       "      <td>2010-12-01 08:26:00</td>\n",
       "      <td>2.75</td>\n",
       "      <td>17850.0</td>\n",
       "      <td>United Kingdom</td>\n",
       "      <td>22.00</td>\n",
       "    </tr>\n",
       "    <tr>\n",
       "      <th>3</th>\n",
       "      <td>536365</td>\n",
       "      <td>84029G</td>\n",
       "      <td>KNITTED UNION FLAG HOT WATER BOTTLE</td>\n",
       "      <td>6</td>\n",
       "      <td>2010-12-01 08:26:00</td>\n",
       "      <td>3.39</td>\n",
       "      <td>17850.0</td>\n",
       "      <td>United Kingdom</td>\n",
       "      <td>20.34</td>\n",
       "    </tr>\n",
       "    <tr>\n",
       "      <th>4</th>\n",
       "      <td>536365</td>\n",
       "      <td>84029E</td>\n",
       "      <td>RED WOOLLY HOTTIE WHITE HEART.</td>\n",
       "      <td>6</td>\n",
       "      <td>2010-12-01 08:26:00</td>\n",
       "      <td>3.39</td>\n",
       "      <td>17850.0</td>\n",
       "      <td>United Kingdom</td>\n",
       "      <td>20.34</td>\n",
       "    </tr>\n",
       "  </tbody>\n",
       "</table>\n",
       "</div>"
      ],
      "text/plain": [
       "   InvoiceNo StockCode                          Description  Quantity  \\\n",
       "0     536365    85123A   WHITE HANGING HEART T-LIGHT HOLDER         6   \n",
       "1     536365     71053                  WHITE METAL LANTERN         6   \n",
       "2     536365    84406B       CREAM CUPID HEARTS COAT HANGER         8   \n",
       "3     536365    84029G  KNITTED UNION FLAG HOT WATER BOTTLE         6   \n",
       "4     536365    84029E       RED WOOLLY HOTTIE WHITE HEART.         6   \n",
       "\n",
       "          InvoiceDate  UnitPrice  CustomerID         Country  CheckoutPrice  \n",
       "0 2010-12-01 08:26:00       2.55     17850.0  United Kingdom          15.30  \n",
       "1 2010-12-01 08:26:00       3.39     17850.0  United Kingdom          20.34  \n",
       "2 2010-12-01 08:26:00       2.75     17850.0  United Kingdom          22.00  \n",
       "3 2010-12-01 08:26:00       3.39     17850.0  United Kingdom          20.34  \n",
       "4 2010-12-01 08:26:00       3.39     17850.0  United Kingdom          20.34  "
      ]
     },
     "execution_count": 65,
     "metadata": {},
     "output_type": "execute_result"
    }
   ],
   "source": [
    "retail.head()"
   ]
  },
  {
   "cell_type": "code",
   "execution_count": 71,
   "metadata": {},
   "outputs": [],
   "source": [
    "top_selling = retail.groupby('StockCode').sum()['Quantity'].sort_values(ascending= False)[:10]"
   ]
  },
  {
   "cell_type": "code",
   "execution_count": 68,
   "metadata": {},
   "outputs": [
    {
     "data": {
      "text/plain": [
       "StockCode\n",
       "23843     168469.60\n",
       "22423     142592.95\n",
       "85123A    100603.50\n",
       "85099B     85220.78\n",
       "23166      81416.73\n",
       "POST       77803.96\n",
       "47566      68844.33\n",
       "84879      56580.34\n",
       "M          53779.93\n",
       "23084      51346.20\n",
       "Name: CheckoutPrice, dtype: float64"
      ]
     },
     "execution_count": 68,
     "metadata": {},
     "output_type": "execute_result"
    }
   ],
   "source": [
    "retail.groupby('StockCode').sum()['CheckoutPrice'].sort_values(ascending= False)[:10]"
   ]
  },
  {
   "cell_type": "markdown",
   "metadata": {},
   "source": [
    "#### top 3 아이템의 월별 판매량 추이"
   ]
  },
  {
   "cell_type": "code",
   "execution_count": 79,
   "metadata": {},
   "outputs": [
    {
     "data": {
      "text/plain": [
       "StockCode        \n",
       "23843      201112    80995\n",
       "23166      201101    74215\n",
       "           201105      792\n",
       "           201106      391\n",
       "           201107      718\n",
       "           201108      405\n",
       "           201109      342\n",
       "           201110      235\n",
       "           201111      631\n",
       "           201112      187\n",
       "84077      201012     5139\n",
       "           201101     1488\n",
       "           201102     3457\n",
       "           201103     3888\n",
       "           201104    10224\n",
       "           201105     4944\n",
       "           201106     1920\n",
       "           201107     3600\n",
       "           201108     2256\n",
       "           201109     3462\n",
       "           201110     8174\n",
       "           201111     4500\n",
       "           201112     1363\n",
       "Name: Quantity, dtype: int64"
      ]
     },
     "execution_count": 79,
     "metadata": {},
     "output_type": "execute_result"
    }
   ],
   "source": [
    "retail.set_index('InvoiceDate').groupby(['StockCode', extract_month]).sum()['Quantity'].loc[top_selling[:3].index]"
   ]
  },
  {
   "cell_type": "code",
   "execution_count": 76,
   "metadata": {},
   "outputs": [
    {
     "data": {
      "text/plain": [
       "Index(['23843', '23166', '84077', '22197', '85099B', '85123A', '84879',\n",
       "       '21212', '23084', '22492'],\n",
       "      dtype='object', name='StockCode')"
      ]
     },
     "execution_count": 76,
     "metadata": {},
     "output_type": "execute_result"
    }
   ],
   "source": [
    "top_selling.index"
   ]
  },
  {
   "cell_type": "code",
   "execution_count": null,
   "metadata": {},
   "outputs": [],
   "source": []
  }
 ],
 "metadata": {
  "kernelspec": {
   "display_name": "Python 3",
   "language": "python",
   "name": "python3"
  },
  "language_info": {
   "codemirror_mode": {
    "name": "ipython",
    "version": 3
   },
   "file_extension": ".py",
   "mimetype": "text/x-python",
   "name": "python",
   "nbconvert_exporter": "python",
   "pygments_lexer": "ipython3",
   "version": "3.7.9"
  }
 },
 "nbformat": 4,
 "nbformat_minor": 2
}
